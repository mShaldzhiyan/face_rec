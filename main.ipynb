{
 "cells": [
  {
   "cell_type": "code",
   "execution_count": 4,
   "metadata": {},
   "outputs": [],
   "source": [
    "import os\n",
    "import cv2\n",
    "import face_recognition"
   ]
  },
  {
   "cell_type": "code",
   "execution_count": 5,
   "metadata": {},
   "outputs": [],
   "source": [
    "KNOWN_FACES_DIR = r\"C:\\code\\python\\face_rec\\Data\\known_faces\"\n",
    "UNKNOWN_FACES_DIR = \"unknown_faces\"\n",
    "TOLERANCE = 0.6\n",
    "FRAME_THICKNESS = 3\n",
    "FONT_THICKNESS = 2\n",
    "MODEL = \"cnn\" #hog"
   ]
  },
  {
   "cell_type": "code",
   "execution_count": 6,
   "metadata": {},
   "outputs": [],
   "source": [
    "known_faces = []\n",
    "known_names = []"
   ]
  },
  {
   "cell_type": "code",
   "execution_count": 8,
   "metadata": {},
   "outputs": [],
   "source": [
    "for name in os.listdir(KNOWN_FACES_DIR):\n",
    "    for filename in os.listdir(f\"{KNOWN_FACES_DIR}/{name}\"):\n",
    "        image = face_recognition.load_image_file(f\"{KNOWN_FACES_DIR}/{name}/{filename}\")\n",
    "        encoding = face_recognition.face_encodings(image)[0]\n",
    "        known_faces.append(encoding)\n",
    "        known_faces.append(name)"
   ]
  },
  {
   "cell_type": "code",
   "execution_count": null,
   "metadata": {},
   "outputs": [],
   "source": []
  }
 ],
 "metadata": {
  "kernelspec": {
   "display_name": "facerec",
   "language": "python",
   "name": "python3"
  },
  "language_info": {
   "codemirror_mode": {
    "name": "ipython",
    "version": 3
   },
   "file_extension": ".py",
   "mimetype": "text/x-python",
   "name": "python",
   "nbconvert_exporter": "python",
   "pygments_lexer": "ipython3",
   "version": "3.10.8"
  },
  "orig_nbformat": 4,
  "vscode": {
   "interpreter": {
    "hash": "9ac97df01b8dbc6a5bbe6ed6e1906a0ef379990b5fa24eb6641efa0de0ae6bce"
   }
  }
 },
 "nbformat": 4,
 "nbformat_minor": 2
}
